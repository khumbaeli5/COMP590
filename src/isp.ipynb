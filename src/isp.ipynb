{
 "cells": [
  {
   "cell_type": "code",
   "execution_count": 1,
   "metadata": {},
   "outputs": [],
   "source": [
    "%matplotlib tk\n",
    "import skimage as ski\n",
    "import numpy as np\n",
    "from scipy.interpolate import interp2d\n",
    "import matplotlib.pyplot as plt\n",
    "\n"
   ]
  },
  {
   "cell_type": "markdown",
   "metadata": {},
   "source": [
    "Loading Nikon D3 image from baby.NEF ...\n",
    "Scaling with darkness 0, saturation 16383, and\n",
    "multipliers 1.628906 1.000000 1.386719 1.000000"
   ]
  },
  {
   "cell_type": "code",
   "execution_count": 2,
   "metadata": {},
   "outputs": [
    {
     "name": "stdout",
     "output_type": "stream",
     "text": [
      "Height, Width (2844, 4284)\n",
      "Data Type of Array uint16\n",
      "Bits per pixel 16\n"
     ]
    }
   ],
   "source": [
    "image = ski.io.imread('../data/baby.tiff')\n",
    "ski.io.imshow(image)\n",
    "dp_image = image.astype('float64')  \n",
    "print(\"Height, Width\", image.shape)\n",
    "print(\"Data Type of Array\", image.dtype)\n",
    "print(\"Bits per pixel\", image.itemsize*8)"
   ]
  },
  {
   "cell_type": "code",
   "execution_count": 3,
   "metadata": {},
   "outputs": [
    {
     "name": "stdout",
     "output_type": "stream",
     "text": [
      "[[0.10712324 0.1833608  0.10401025 ... 0.99658182 0.64212904 0.99536104]\n",
      " [0.18342184 0.14978942 0.19251663 ... 0.99267533 0.99572728 0.99267533]\n",
      " [0.10303363 0.1855582  0.10437649 ... 0.99658182 0.63352255 0.99530001]\n",
      " ...\n",
      " [0.01831166 0.01403894 0.01220778 ... 0.00720259 0.02655191 0.00592077]\n",
      " [0.00805713 0.01281817 0.01214674 ... 0.02435451 0.01458829 0.02642984]\n",
      " [0.01031557 0.00927791 0.00866752 ... 0.0073857  0.02520906 0.0073857 ]]\n"
     ]
    }
   ],
   "source": [
    "#Linearization\n",
    "l_image = (dp_image)/16383\n",
    "l_image = l_image.clip(0,1)\n",
    "\n",
    "print(l_image)\n",
    "\n",
    "save_image = ski.util.img_as_ubyte(l_image)\n",
    "ski.io.imsave('../data/babyECLinearize.png',save_image)"
   ]
  },
  {
   "cell_type": "markdown",
   "metadata": {},
   "source": [
    "Identifying the correct Bayer pattern: I choose rggb"
   ]
  },
  {
   "cell_type": "code",
   "execution_count": 4,
   "metadata": {},
   "outputs": [
    {
     "name": "stderr",
     "output_type": "stream",
     "text": [
      "C:\\Users\\elica\\AppData\\Local\\Packages\\PythonSoftwareFoundation.Python.3.10_qbz5n2kfra8p0\\LocalCache\\local-packages\\Python310\\site-packages\\numpy\\core\\fromnumeric.py:3504: RuntimeWarning: Mean of empty slice.\n",
      "  return _methods._mean(a, axis=axis, dtype=dtype,\n",
      "C:\\Users\\elica\\AppData\\Local\\Packages\\PythonSoftwareFoundation.Python.3.10_qbz5n2kfra8p0\\LocalCache\\local-packages\\Python310\\site-packages\\numpy\\core\\_methods.py:129: RuntimeWarning: invalid value encountered in scalar divide\n",
      "  ret = ret.dtype.type(ret / rcount)\n"
     ]
    },
    {
     "name": "stdout",
     "output_type": "stream",
     "text": [
      "nan nan nan\n"
     ]
    }
   ],
   "source": [
    "#1.2\n",
    "\n",
    "plt.imshow(l_image)\n",
    "\n",
    "points = plt.ginput(10)\n",
    "points = [(round(x), round(y)) for x, y in points]\n",
    "\n",
    "r = []\n",
    "b = []\n",
    "g = []\n",
    "\n",
    "for x,y in points:\n",
    "    if x % 2 == 0:\n",
    "        if y % 2 == 0:\n",
    "            r.append(l_image[y,x])  \n",
    "        else:\n",
    "            g.append(l_image[y,x])  \n",
    "    else:\n",
    "        if y % 2 == 0:\n",
    "            b.append(l_image[y,x])  \n",
    "        else:\n",
    "            g.append(l_image[y,x])\n",
    "\n",
    "r_avg = np.mean(r)\n",
    "g_avg = np.mean(g)  \n",
    "b_avg = np.mean(b)\n",
    "\n",
    "average = (r_avg + (g_avg/2) + b_avg) / 3.0\n",
    "\n",
    "coeff_r = average / r_avg \n",
    "coeff_g = average / (g_avg)\n",
    "coeff_b = average / b_avg \n",
    "\n",
    "manual_worlc = l_image * 1\n",
    "manual_worlc[0::2, 0::2] = manual_worlc[0::2, 0::2] * coeff_r \n",
    "manual_worlc[0::2, 1::2] = manual_worlc[0::2, 1::2] * coeff_g\n",
    "manual_worlc[1::2, 0::2] = manual_worlc[1::2, 0::2] * coeff_g\n",
    "manual_worlc[1::2, 1::2] = manual_worlc[1::2, 1::2] * coeff_b \n",
    "\n",
    "manual_worlc = manual_worlc.clip(0,1)\n",
    "ski.io.imshow(manual_worlc)\n",
    "print(coeff_b,coeff_g,coeff_r)"
   ]
  },
  {
   "cell_type": "code",
   "execution_count": 5,
   "metadata": {},
   "outputs": [],
   "source": [
    "#White world\n",
    "white_world = l_image * 1\n",
    "white_world[0::2, 0::2] = (white_world[0::2, 0::2] * 1.0 / np.percentile(white_world[0::2, 0::2], 94)).clip(0,1)\n",
    "white_world[0::2, 1::2] = (white_world[0::2, 1::2] * 1.0 / np.percentile(white_world[0::2, 1::2], 94)).clip(0,1)\n",
    "white_world[1::2, 0::2] = (white_world[1::2, 0::2] * 1.0 / np.percentile(white_world[1::2, 0::2], 94)).clip(0,1)\n",
    "white_world[1::2, 1::2] = (white_world[1::2, 1::2] * 1.0 / np.percentile(white_world[1::2, 1::2], 94)).clip(0,1)\n",
    "\n",
    "save_image = ski.util.img_as_ubyte(white_world)\n",
    "ski.io.imsave('../data/babyECWW.png',save_image)"
   ]
  },
  {
   "cell_type": "code",
   "execution_count": 6,
   "metadata": {},
   "outputs": [],
   "source": [
    "#Gray world\n",
    "gray_world = l_image * 1\n",
    "gray_world[0::2, 0::2] = (gray_world[0::2, 0::2] * 1.0 / gray_world[0::2, 0::2].mean()).clip(0,1)\n",
    "gray_world[0::2, 1::2] = (gray_world[0::2, 1::2] * 1.0 / gray_world[0::2, 1::2].mean()).clip(0,1)\n",
    "gray_world[1::2, 0::2] = (gray_world[1::2, 0::2] * 1.0 / gray_world[1::2, 0::2].mean()).clip(0,1)\n",
    "gray_world[1::2, 1::2] = (gray_world[1::2, 1::2] * 1.0 / gray_world[1::2, 1::2].mean()).clip(0,1)\n",
    "\n",
    "save_image = ski.util.img_as_ubyte(gray_world)\n",
    "ski.io.imsave('../data/babyECGW.png',save_image)"
   ]
  },
  {
   "cell_type": "code",
   "execution_count": 7,
   "metadata": {},
   "outputs": [],
   "source": [
    "preset_world = l_image * 1\n",
    "preset_world[0::2, 0::2] = preset_world[0::2, 0::2] * 1.628906\n",
    "preset_world[0::2, 1::2] = preset_world[0::2, 1::2] * 1\n",
    "preset_world[1::2, 0::2] = preset_world[1::2, 0::2] * 1\n",
    "preset_world[1::2, 1::2] = preset_world[1::2, 1::2] * 1.386719\n",
    "\n",
    "preset_world = preset_world.clip(0,1)\n",
    "\n",
    "save_image = ski.util.img_as_ubyte(preset_world)\n",
    "ski.io.imsave('../data/babyECPreset.png',save_image)"
   ]
  },
  {
   "cell_type": "code",
   "execution_count": 8,
   "metadata": {},
   "outputs": [
    {
     "name": "stderr",
     "output_type": "stream",
     "text": [
      "C:\\Users\\elica\\AppData\\Local\\Temp\\ipykernel_2972\\2436569880.py:14: DeprecationWarning: `interp2d` is deprecated in SciPy 1.10 and will be removed in SciPy 1.14.0.\n",
      "\n",
      "For legacy code, nearly bug-for-bug compatible replacements are\n",
      "`RectBivariateSpline` on regular grids, and `bisplrep`/`bisplev` for\n",
      "scattered 2D data.\n",
      "\n",
      "In new code, for regular grids use `RegularGridInterpolator` instead.\n",
      "For scattered data, prefer `LinearNDInterpolator` or\n",
      "`CloughTocher2DInterpolator`.\n",
      "\n",
      "For more details see\n",
      "`https://scipy.github.io/devdocs/notebooks/interp_transition_guide.html`\n",
      "\n",
      "  f_r = interp2d(x, y, r, kind='linear')\n",
      "C:\\Users\\elica\\AppData\\Local\\Temp\\ipykernel_2972\\2436569880.py:15: DeprecationWarning: `interp2d` is deprecated in SciPy 1.10 and will be removed in SciPy 1.14.0.\n",
      "\n",
      "For legacy code, nearly bug-for-bug compatible replacements are\n",
      "`RectBivariateSpline` on regular grids, and `bisplrep`/`bisplev` for\n",
      "scattered 2D data.\n",
      "\n",
      "In new code, for regular grids use `RegularGridInterpolator` instead.\n",
      "For scattered data, prefer `LinearNDInterpolator` or\n",
      "`CloughTocher2DInterpolator`.\n",
      "\n",
      "For more details see\n",
      "`https://scipy.github.io/devdocs/notebooks/interp_transition_guide.html`\n",
      "\n",
      "  r_up = f_r(x_up, y_up)\n",
      "C:\\Users\\elica\\AppData\\Local\\Temp\\ipykernel_2972\\2436569880.py:17: DeprecationWarning: `interp2d` is deprecated in SciPy 1.10 and will be removed in SciPy 1.14.0.\n",
      "\n",
      "For legacy code, nearly bug-for-bug compatible replacements are\n",
      "`RectBivariateSpline` on regular grids, and `bisplrep`/`bisplev` for\n",
      "scattered 2D data.\n",
      "\n",
      "In new code, for regular grids use `RegularGridInterpolator` instead.\n",
      "For scattered data, prefer `LinearNDInterpolator` or\n",
      "`CloughTocher2DInterpolator`.\n",
      "\n",
      "For more details see\n",
      "`https://scipy.github.io/devdocs/notebooks/interp_transition_guide.html`\n",
      "\n",
      "  f_g1 = interp2d(x, y, g1, kind='linear')\n",
      "C:\\Users\\elica\\AppData\\Local\\Temp\\ipykernel_2972\\2436569880.py:18: DeprecationWarning: `interp2d` is deprecated in SciPy 1.10 and will be removed in SciPy 1.14.0.\n",
      "\n",
      "For legacy code, nearly bug-for-bug compatible replacements are\n",
      "`RectBivariateSpline` on regular grids, and `bisplrep`/`bisplev` for\n",
      "scattered 2D data.\n",
      "\n",
      "In new code, for regular grids use `RegularGridInterpolator` instead.\n",
      "For scattered data, prefer `LinearNDInterpolator` or\n",
      "`CloughTocher2DInterpolator`.\n",
      "\n",
      "For more details see\n",
      "`https://scipy.github.io/devdocs/notebooks/interp_transition_guide.html`\n",
      "\n",
      "  g1_up = f_g1(x_up, y_up)\n",
      "C:\\Users\\elica\\AppData\\Local\\Temp\\ipykernel_2972\\2436569880.py:20: DeprecationWarning: `interp2d` is deprecated in SciPy 1.10 and will be removed in SciPy 1.14.0.\n",
      "\n",
      "For legacy code, nearly bug-for-bug compatible replacements are\n",
      "`RectBivariateSpline` on regular grids, and `bisplrep`/`bisplev` for\n",
      "scattered 2D data.\n",
      "\n",
      "In new code, for regular grids use `RegularGridInterpolator` instead.\n",
      "For scattered data, prefer `LinearNDInterpolator` or\n",
      "`CloughTocher2DInterpolator`.\n",
      "\n",
      "For more details see\n",
      "`https://scipy.github.io/devdocs/notebooks/interp_transition_guide.html`\n",
      "\n",
      "  f_g2 = interp2d(x, y, g2, kind='linear')\n",
      "C:\\Users\\elica\\AppData\\Local\\Temp\\ipykernel_2972\\2436569880.py:21: DeprecationWarning: `interp2d` is deprecated in SciPy 1.10 and will be removed in SciPy 1.14.0.\n",
      "\n",
      "For legacy code, nearly bug-for-bug compatible replacements are\n",
      "`RectBivariateSpline` on regular grids, and `bisplrep`/`bisplev` for\n",
      "scattered 2D data.\n",
      "\n",
      "In new code, for regular grids use `RegularGridInterpolator` instead.\n",
      "For scattered data, prefer `LinearNDInterpolator` or\n",
      "`CloughTocher2DInterpolator`.\n",
      "\n",
      "For more details see\n",
      "`https://scipy.github.io/devdocs/notebooks/interp_transition_guide.html`\n",
      "\n",
      "  g2_up = f_g2(x_up, y_up)\n",
      "C:\\Users\\elica\\AppData\\Local\\Temp\\ipykernel_2972\\2436569880.py:23: DeprecationWarning: `interp2d` is deprecated in SciPy 1.10 and will be removed in SciPy 1.14.0.\n",
      "\n",
      "For legacy code, nearly bug-for-bug compatible replacements are\n",
      "`RectBivariateSpline` on regular grids, and `bisplrep`/`bisplev` for\n",
      "scattered 2D data.\n",
      "\n",
      "In new code, for regular grids use `RegularGridInterpolator` instead.\n",
      "For scattered data, prefer `LinearNDInterpolator` or\n",
      "`CloughTocher2DInterpolator`.\n",
      "\n",
      "For more details see\n",
      "`https://scipy.github.io/devdocs/notebooks/interp_transition_guide.html`\n",
      "\n",
      "  f_b = interp2d(x, y, b, kind='linear')\n",
      "C:\\Users\\elica\\AppData\\Local\\Temp\\ipykernel_2972\\2436569880.py:24: DeprecationWarning: `interp2d` is deprecated in SciPy 1.10 and will be removed in SciPy 1.14.0.\n",
      "\n",
      "For legacy code, nearly bug-for-bug compatible replacements are\n",
      "`RectBivariateSpline` on regular grids, and `bisplrep`/`bisplev` for\n",
      "scattered 2D data.\n",
      "\n",
      "In new code, for regular grids use `RegularGridInterpolator` instead.\n",
      "For scattered data, prefer `LinearNDInterpolator` or\n",
      "`CloughTocher2DInterpolator`.\n",
      "\n",
      "For more details see\n",
      "`https://scipy.github.io/devdocs/notebooks/interp_transition_guide.html`\n",
      "\n",
      "  b_up = f_b(x_up, y_up)\n"
     ]
    }
   ],
   "source": [
    "import colour_demosaicing \n",
    "#Demosaic\n",
    "choice = preset_world\n",
    "r = choice[0::2, 0::2]\n",
    "g1 = choice[0::2, 1::2]\n",
    "g2 = choice[1::2, 0::2]\n",
    "b = choice[1::2, 1::2]\n",
    "\n",
    "x = np.arange(r.shape[1])\n",
    "y = np.arange(r.shape[0])\n",
    "x_up = np.linspace(0, r.shape[1], r.shape[1]*2)\n",
    "y_up = np.linspace(0, r.shape[0], r.shape[0]*2)\n",
    "\n",
    "f_r = interp2d(x, y, r, kind='linear')\n",
    "r_up = f_r(x_up, y_up)\n",
    "\n",
    "f_g1 = interp2d(x, y, g1, kind='linear')\n",
    "g1_up = f_g1(x_up, y_up)\n",
    "\n",
    "f_g2 = interp2d(x, y, g2, kind='linear')\n",
    "g2_up = f_g2(x_up, y_up)\n",
    "\n",
    "f_b = interp2d(x, y, b, kind='linear')\n",
    "b_up = f_b(x_up, y_up)\n",
    "\n",
    "\n",
    "g_up = (g1_up + g2_up) / 2\n",
    "rgb_image = np.dstack((r_up,g_up,b_up)).clip(0,1)\n",
    " \n",
    "rgb_image1 = colour_demosaicing.demosaicing_CFA_Bayer_bilinear(choice,'RGGB').clip(0,1)\n"
   ]
  },
  {
   "cell_type": "code",
   "execution_count": 9,
   "metadata": {},
   "outputs": [],
   "source": [
    "matrix = np.array([\n",
    "    [6988, -1384, -714],\n",
    "    [-5631, 13410, 2447],\n",
    "    [-1485, 2204, 7318]\n",
    "])\n",
    "\n",
    "matrix_cam = matrix / 10000\n",
    "matrix_sRGB = np.array([\n",
    "    [0.4124564, 0.3575761, 0.1804375],\n",
    "    [0.2126729, 0.7151522, 0.0721750],\n",
    "    [0.0193339, 0.1191920, 0.9503041]\n",
    "])\n",
    "\n",
    "m_SRGBtoCam = np.dot(matrix_cam,matrix_sRGB)\n",
    "\n",
    "row_sums = m_SRGBtoCam.sum(axis=1)\n",
    "row_sums = row_sums[:, np.newaxis]\n",
    "m_SRGBtoCam = m_SRGBtoCam / row_sums\n",
    "\n",
    "invM = np.linalg.inv(m_SRGBtoCam)\n",
    "\n",
    "height, width, c = rgb_image.shape\n",
    "\n",
    "for i in range(height):\n",
    "    for j in range(width):\n",
    "        rgb_image[i,j] = np.dot(invM,rgb_image[i, j].T).T\n",
    "\n",
    "\n",
    "interpolated_image = rgb_image.clip(0,1)\n",
    "\n",
    "save_image = ski.util.img_as_ubyte(interpolated_image)\n",
    "ski.io.imsave('../data/babyECIP.png',save_image)"
   ]
  },
  {
   "cell_type": "code",
   "execution_count": 10,
   "metadata": {},
   "outputs": [],
   "source": [
    "#Gamma encoding\n",
    "bright_image = ski.color.gray2rgb((ski.color.rgb2gray(interpolated_image) + 0.15))\n",
    "\n",
    "gamma_image = np.where(bright_image <= 0.0031308,\n",
    "                         12.92 * bright_image,\n",
    "                         (1 + 0.055) * np.power(interpolated_image, 1 / 2.4) - 0.055)\n",
    "\n",
    "gamma_encoded = gamma_image.clip(0,1)\n",
    "\n",
    "save_image = ski.util.img_as_ubyte(gamma_encoded)"
   ]
  },
  {
   "cell_type": "code",
   "execution_count": 11,
   "metadata": {},
   "outputs": [],
   "source": [
    "#compression\n",
    "save_image = ski.util.img_as_ubyte(gamma_encoded)\n",
    "\n",
    "ski.io.imsave('../data/babyEC.png',save_image)\n",
    "ski.io.imsave('../data/babyEC.jpeg',save_image, quality = 95)\n",
    "ski.io.imsave('../data/babyECTEST.jpeg',save_image, quality = 35)"
   ]
  }
 ],
 "metadata": {
  "kernelspec": {
   "display_name": "Python 3",
   "language": "python",
   "name": "python3"
  },
  "language_info": {
   "codemirror_mode": {
    "name": "ipython",
    "version": 3
   },
   "file_extension": ".py",
   "mimetype": "text/x-python",
   "name": "python",
   "nbconvert_exporter": "python",
   "pygments_lexer": "ipython3",
   "version": "3.10.11"
  }
 },
 "nbformat": 4,
 "nbformat_minor": 2
}
